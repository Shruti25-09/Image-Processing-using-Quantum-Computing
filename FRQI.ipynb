{
 "cells": [
  {
   "cell_type": "code",
   "execution_count": 1,
   "id": "a91f3aa4",
   "metadata": {},
   "outputs": [],
   "source": [
    "from qiskit import QuantumRegister, ClassicalRegister\n",
    "from qiskit import QuantumCircuit, Aer\n",
    "from qiskit import transpile, assemble\n",
    "from qiskit.visualization import plot_histogram\n",
    "import matplotlib.pyplot as plt\n",
    "import numpy as np\n",
    "import math\n",
    "from ibm_washington_config import coupling_map, basis_gates\n",
    "from ionq_config import coupling_map, basis_gates"
   ]
  },
  {
   "cell_type": "code",
   "execution_count": 2,
   "id": "fb6abb92",
   "metadata": {},
   "outputs": [
    {
     "data": {
      "image/png": "[encoded data removed]",
      "text/plain": [
       "<Figure size 640x480 with 1 Axes>"
      ]
     },
     "metadata": {},
     "output_type": "display_data"
    }
   ],
   "source": [
    "image = np.random.uniform(low=0, high=255, size=(16,16)).astype(int)\n",
    "plt.imshow(image, cmap='gray')\n",
    "plt.title('Image')\n",
    "plt.show()"
   ]
  },
  {
   "cell_type": "code",
   "execution_count": 3,
   "id": "22f64980",
   "metadata": {},
   "outputs": [],
   "source": [
    "input_im = image.copy().flatten()\n",
    "thetas = np.interp(input_im, (0, 256), (0, np.pi/2))\n",
    "coord_q_num = int(np.ceil(math.log(len(input_im), 2)))"
   ]
  },
  {
   "cell_type": "code",
   "execution_count": 4,
   "id": "6a1c178f-b4b3-4a82-8c57-b9baba4ebb88",
   "metadata": {},
   "outputs": [
    {
     "name": "stderr",
     "output_type": "stream",
     "text": [
      "C:\\Users\\shrut\\AppData\\Local\\Temp\\ipykernel_13012\\2498201748.py:8: DeprecationWarning: The method ``qiskit.circuit.quantumcircuit.QuantumCircuit.i()`` is deprecated as of qiskit 0.45.0. It will be removed no earlier than 3 months after the release date. Use QuantumCircuit.id as direct replacement.\n",
      "  qc_image.i(c)\n"
     ]
    },
    {
     "data": {
      "text/plain": [
       "<qiskit.circuit.instructionset.InstructionSet at 0x2970bacb940>"
      ]
     },
     "execution_count": 4,
     "metadata": {},
     "output_type": "execute_result"
    }
   ],
   "source": [
    "O = QuantumRegister(coord_q_num, 'coordinates')\n",
    "c = QuantumRegister(1,'c_reg')\n",
    "cr = ClassicalRegister(O.size+c.size, \"cl_reg\")\n",
    "\n",
    "qc_image = QuantumCircuit(c, O, cr)\n",
    "num_qubits = qc_image.num_qubits\n",
    "input_im = image.copy().flatten()\n",
    "qc_image.i(c)\n",
    "qc_image.h(O)\n",
    "\n",
    "controls_ = []\n",
    "for i, _ in enumerate(O):\n",
    "    controls_.extend([O[i]])\n",
    "\n",
    "for i, theta in enumerate(thetas):\n",
    "    qubit_index_bin = \"{0:b}\".format(i).zfill(coord_q_num)\n",
    "    \n",
    "    for k, qub_ind in enumerate(qubit_index_bin):\n",
    "        if int(qub_ind):\n",
    "            qc_image.x(O[k])\n",
    "            \n",
    "    # qc_image.barrier()\n",
    "    # for coord_or_intns in (0,1):\n",
    "    qc_image.mcry(theta=2*theta,\n",
    "                  q_controls=controls_,\n",
    "                  q_target=c[0])\n",
    "\n",
    "    # qc_image.barrier()\n",
    "    for k, qub_ind in enumerate(qubit_index_bin):\n",
    "        if int(qub_ind):\n",
    "            qc_image.x(O[k])\n",
    "           \n",
    "    # qc_image.barrier()\n",
    "\n",
    "qc_image.measure(list(reversed(range(qc_image.num_qubits))), list(range(cr.size)))"
   ]
  },
  {
   "cell_type": "code",
   "execution_count": 5,
   "id": "918c10fc-60e3-4269-9c98-ab58edcb4cde",
   "metadata": {},
   "outputs": [
    {
     "name": "stdout",
     "output_type": "stream",
     "text": [
      "depth is 2274, # of qubits is 9\n"
     ]
    }
   ],
   "source": [
    "print(\"depth is {}, # of qubits is {}\".format(qc_image.depth(), qc_image.num_qubits))"
   ]
  },
  {
   "cell_type": "code",
   "execution_count": 10,
   "id": "216305a0-af2d-4500-9f37-27fe7d385943",
   "metadata": {},
   "outputs": [
    {
     "name": "stderr",
     "output_type": "stream",
     "text": [
      "C:\\Users\\shrut\\AppData\\Local\\Temp\\ipykernel_13012\\4293248132.py:4: DeprecationWarning: Using a qobj for run() is deprecated as of qiskit-aer 0.9.0 and will be removed no sooner than 3 months from that release date. Transpiled circuits should now be passed directly using `backend.run(circuits, **run_options).\n",
      "  job_oqim = aer_sim.run(qobj)\n"
     ]
    },
    {
     "name": "stdout",
     "output_type": "stream",
     "text": [
      "[42, 114, 256, 188, 201, 165, 183, 87, 107, 239, 256, 0, 256, 237, 26, 51, 95, 163, 0, 197, 36, 206, 35, 211, 34, 100, 227, 0, 142, 0, 145, 159, 69, 151, 75, 222, 138, 36, 47, 230, 170, 222, 185, 0, 18, 256, 180, 167, 201, 187, 131, 68, 256, 75, 37, 173, 18, 201, 82, 192, 149, 164, 67, 121, 238, 158, 256, 177, 77, 107, 152, 256, 74, 221, 229, 191, 147, 221, 47, 109, 256, 256, 54, 145, 99, 137, 75, 0, 96, 67, 216, 94, 183, 71, 130, 256, 84, 222, 256, 85, 173, 179, 225, 40, 136, 96, 105, 38, 63, 225, 41, 137, 0, 157, 211, 225, 77, 237, 123, 206, 103, 168, 175, 256, 160, 0, 143, 193, 229, 204, 207, 17, 168, 27, 164, 77, 27, 218, 107, 165, 256, 159, 207, 26, 209, 171, 133, 200, 26, 61, 202, 171, 115, 166, 115, 46, 18, 107, 41, 23, 237, 86, 160, 40, 125, 0, 129, 67, 238, 238, 256, 0, 93, 0, 111, 133, 81, 42, 162, 256, 236, 174, 111, 0, 135, 17, 25, 176, 256, 256, 157, 134, 236, 125, 128, 37, 0, 237, 101, 238, 54, 238, 59, 77, 172, 224, 43, 224, 123, 103, 137, 86, 178, 116, 42, 104, 0, 84, 140, 0, 80, 25, 43, 17, 222, 199, 0, 139, 0, 204, 194, 25, 99, 26, 166, 125, 256, 0, 93, 72, 214, 0, 190, 256, 17, 63, 88, 170, 69, 256, 122, 161, 167, 125, 98, 31] \n",
      " [ 41 115 251 185 203 166 172  94 111 232 249   2 241 237  26  42 115 174\n",
      "  14 188  26 204  47 226  28  90 232   3 131   8 149 157  75 149  87 215\n",
      " 134  37  59 241 165 222 183  12  19 254 173 184 191 175 134  74 241  84\n",
      "  57 179  37 199  81 197 150 152  66 135 242 151 250 176  82 100 150 248\n",
      "  93 222 230 197 150 214  54 113 251 242  48 139  92 137  72   9  96  57\n",
      " 237  90 174  57 113 251  91 224 229  79 177 174 216  40 124  89  96  41\n",
      "  54 226  42 137   7 147 219 237  78 223 115 199 105 175 187 248 154   8\n",
      " 134 174 229 210 214  15 184  24 171  86  33 219 107 172 236 166 207  22\n",
      " 227 177 121 193  39  68 203 174 122 158 134  29  21 103  45  21 232  96\n",
      " 138  28 122  15 132  70 221 235 244   7  62  22 107 138  83  50 173 243\n",
      " 250 180 116  14 146  19  23 183 254 242 169 141 234 112 124  40   4 216\n",
      " 118 246  73 242  51  83 188 217  29 240 120 102 116  89 181 113  59  99\n",
      "   0  78 150   5  90  34  47  29 227 202   7 149   6 198 198  33 112  27\n",
      " 156 122 246  25  85  72 207  11 198 253  22  69  86 161  66 241 130 170\n",
      " 160 134  91  48]\n"
     ]
    }
   ],
   "source": [
    "aer_sim = Aer.get_backend('aer_simulator')\n",
    "t_qc_image = transpile(qc_image, aer_sim)\n",
    "qobj = assemble(t_qc_image, shots=20000)\n",
    "job_oqim = aer_sim.run(qobj)\n",
    "result_oqim = job_oqim.result()\n",
    "counts_oqim = result_oqim.get_counts()\n",
    "classical_colors = []\n",
    "for i in range(0, len(input_im)):\n",
    "    color_list = []\n",
    "    for item in counts_oqim.items():\n",
    "        key = item[0]\n",
    "        amount = item[1]\n",
    "        bin_coord = key[1:]\n",
    "        int_coord = int(bin_coord, 2)\n",
    "        if int_coord == i:\n",
    "            color_list.append((key[0], amount))\n",
    "    color_amount = 0\n",
    "    for color, amount in color_list:\n",
    "        if not int(color):\n",
    "            color_amount=color_amount+amount\n",
    "    try:\n",
    "        color = np.arccos((color_amount/sum(n for _, n in color_list))**(1/2))\n",
    "        classical_colors.append(color)\n",
    "    except ZeroDivisionError:\n",
    "        print(\"ZeroDivisionError\")\n",
    "classical_colors = list(reversed(np.interp(classical_colors, (0, np.pi/2), (0, 256)).astype(int)))\n",
    "print(classical_colors, '\\n', input_im)"
   ]
  },
  {
   "cell_type": "code",
   "execution_count": 11,
   "id": "484b27ca",
   "metadata": {},
   "outputs": [],
   "source": [
    "def plot_to_compare(output_im, input_im):\n",
    "    plt.imshow(output_im, cmap = 'gray')\n",
    "    plt.title('measured image')\n",
    "    plt.show()\n",
    "    plt.imshow(input_im, cmap = 'gray')\n",
    "    plt.title('real image')\n",
    "    plt.show()"
   ]
  },
  {
   "cell_type": "code",
   "execution_count": 12,
   "id": "0c693f04-702a-43cd-acac-f2bb3b1dc580",
   "metadata": {},
   "outputs": [
    {
     "data": {
      "image/png": "[encoded data removed]",
      "text/plain": [
       "<Figure size 640x480 with 1 Axes>"
      ]
     },
     "metadata": {},
     "output_type": "display_data"
    },
    {
     "data": {
      "image/png": "[encoded data removed]",
      "text/plain": [
       "<Figure size 640x480 with 1 Axes>"
      ]
     },
     "metadata": {},
     "output_type": "display_data"
    }
   ],
   "source": [
    "plot_to_compare(np.array(classical_colors).reshape(image.shape), image)"
   ]
  },
  {
   "cell_type": "code",
   "execution_count": null,
   "id": "5b68d8a3-1bd3-4590-9b23-3960206ff4f7",
   "metadata": {},
   "outputs": [],
   "source": []
  }
 ],
 "metadata": {
  "kernelspec": {
   "display_name": "Python 3 (ipykernel)",
   "language": "python",
   "name": "python3"
  },
  "language_info": {
   "codemirror_mode": {
    "name": "ipython",
    "version": 3
   },
   "file_extension": ".py",
   "mimetype": "text/x-python",
   "name": "python",
   "nbconvert_exporter": "python",
   "pygments_lexer": "ipython3",
   "version": "3.12.1"
  }
 },
 "nbformat": 4,
 "nbformat_minor": 5
}
