{
 "cells": [
  {
   "cell_type": "code",
   "execution_count": 1,
   "metadata": {
    "id": "wfV9aUmujkmY"
   },
   "outputs": [],
   "source": [
    "import numpy as np\n",
    "from sklearn import model_selection, datasets, svm\n",
    "import matplotlib.pyplot as plt\n",
    "\n",
    "from qiskit import QuantumCircuit, Aer, QuantumRegister, ClassicalRegister, execute"
   ]
  },
  {
   "cell_type": "code",
   "execution_count": 2,
   "metadata": {
    "id": "jLrubmzQs4J3"
   },
   "outputs": [],
   "source": [
    "iris=datasets.load_iris()\n",
    "X=iris.data[:100]\n",
    "Y=iris.target[:100]\n",
    "X_train, X_test, Y_train, Y_test=model_selection.train_test_split(X, Y, test_size=0.33, random_state=42)"
   ]
  },
  {
   "cell_type": "code",
   "execution_count": 3,
   "metadata": {
    "colab": {
     "base_uri": "https://localhost:8080/"
    },
    "id": "m57ZFRDrubyR",
    "outputId": "1edf6d6f-ee5f-46d6-b67d-515d030a981b"
   },
   "outputs": [
    {
     "name": "stdout",
     "output_type": "stream",
     "text": [
      "4\n"
     ]
    }
   ],
   "source": [
    "N=X.shape[1]\n",
    "print(N)\n"
   ]
  },
  {
   "cell_type": "code",
   "execution_count": 4,
   "metadata": {
    "id": "sWkM4ezAvMRn"
   },
   "outputs": [],
   "source": [
    "def initilialize_circuit(N):\n",
    "    q=QuantumRegister(N)\n",
    "    c=ClassicalRegister(1)\n",
    "    qc=QuantumCircuit(q,c)\n",
    "    return qc,c"
   ]
  },
  {
   "cell_type": "code",
   "execution_count": 5,
   "metadata": {
    "id": "XmvqPISzxJwK"
   },
   "outputs": [],
   "source": [
    "def feature_map(qc, X):\n",
    "    for i,x in enumerate(X):\n",
    "        qc.rx(x, i)\n",
    "    return qc"
   ]
  },
  {
   "cell_type": "code",
   "execution_count": 6,
   "metadata": {
    "colab": {
     "base_uri": "https://localhost:8080/"
    },
    "id": "CkK8bip24N-M",
    "outputId": "a5669cda-d974-4343-ac61-af800ec5381d"
   },
   "outputs": [
    {
     "data": {
      "text/plain": [
       "array([5.4, 3.9, 1.7, 0.4])"
      ]
     },
     "execution_count": 6,
     "metadata": {},
     "output_type": "execute_result"
    }
   ],
   "source": [
    "X[5]"
   ]
  },
  {
   "cell_type": "code",
   "execution_count": 7,
   "metadata": {
    "id": "2Lw0gZfD4L-G"
   },
   "outputs": [],
   "source": [
    "def variational_circuit(qc, theta, N):\n",
    "    for i in range(N-1):\n",
    "        qc.cx(i, i+1)\n",
    "    qc.cx(N-1, 0)\n",
    "    for i in range(N):\n",
    "        qc.ry(theta[i], i)\n",
    "    return qc"
   ]
  },
  {
   "cell_type": "code",
   "execution_count": 8,
   "metadata": {
    "id": "BGes6hrY5SbX"
   },
   "outputs": [],
   "source": [
    "def quantum_nn(X, theta, simulator=True):\n",
    "    qc,c=initilialize_circuit(N)\n",
    "    qc=feature_map(qc, X)\n",
    "    qc.barrier()\n",
    "    qc=variational_circuit(qc, theta, N)\n",
    "    qc.barrier()\n",
    "    qc.measure(0,c)\n",
    "    qc.draw('mpl')\n",
    "\n",
    "\n",
    "    shots=1E4\n",
    "    backend=Aer.get_backend('qasm_simulator')\n",
    "    jobs=execute(qc, backend, shots=shots)\n",
    "    result=jobs.result()\n",
    "    counts=result.get_counts(qc)\n",
    "\n",
    "    return counts['1']/shots"
   ]
  },
  {
   "cell_type": "code",
   "execution_count": 9,
   "metadata": {
    "id": "x8FyExIFGYGq"
   },
   "outputs": [],
   "source": [
    "def loss_fn(pred, target):\n",
    "    return (pred-target)**2"
   ]
  },
  {
   "cell_type": "code",
   "execution_count": 10,
   "metadata": {
    "id": "b-JgE0fjGpTD"
   },
   "outputs": [],
   "source": [
    "import copy\n",
    "def gradient(X, Y, theta):\n",
    "    delta=0.01\n",
    "    grad=[]\n",
    "\n",
    "    for i in range(len(theta)):\n",
    "        dtheta=copy.copy(theta)\n",
    "        dtheta[i]+=delta\n",
    "\n",
    "        pred1=quantum_nn(X, dtheta)\n",
    "        pred2=quantum_nn(X, theta)\n",
    "\n",
    "        grad.append((loss_fn(pred1, Y)-loss_fn(pred2, Y))/delta)\n",
    "\n",
    "    return np.array(grad)"
   ]
  },
  {
   "cell_type": "code",
   "execution_count": 11,
   "metadata": {
    "id": "RKMaaFKwKuSM"
   },
   "outputs": [],
   "source": [
    "def accuracy(X, Y, theta):\n",
    "    counter=0\n",
    "\n",
    "    for X_i, Y_i in zip(X, Y):\n",
    "        prediction=quantum_nn(X_i, theta)\n",
    "\n",
    "        if prediction<0.5 and Y_i==0:\n",
    "            counter+=1\n",
    "        if prediction>=0.5 and Y_i==1:\n",
    "            counter+=1\n",
    "\n",
    "    return counter/len(Y)"
   ]
  },
  {
   "cell_type": "code",
   "execution_count": null,
   "metadata": {
    "colab": {
     "base_uri": "https://localhost:8080/"
    },
    "id": "8BKKBPBx9OYe",
    "outputId": "e8ce3e9d-a0bd-4aa6-c5ea-460a17e2fb56"
   },
   "outputs": [
    {
     "name": "stdout",
     "output_type": "stream",
     "text": [
      "Epoch \t Loss \t Accuracy\n"
     ]
    },
    {
     "name": "stderr",
     "output_type": "stream",
     "text": [
      "C:\\Users\\shrut\\AppData\\Local\\Programs\\Python\\Python312\\Lib\\site-packages\\qiskit\\visualization\\circuit\\matplotlib.py:266: FutureWarning: The default matplotlib drawer scheme will be changed to \"iqp\" in a following release. To silence this warning, specify the current default explicitly as style=\"clifford\", or the new default as style=\"iqp\".\n",
      "  self._style, def_font_ratio = load_style(self._style)\n"
     ]
    },
    {
     "name": "stdout",
     "output_type": "stream",
     "text": [
      "0 \t 0.297 \t 0.164\n",
      "1 \t 0.306 \t 0.164\n",
      "2 \t 0.312 \t 0.179\n",
      "3 \t 0.314 \t 0.179\n",
      "4 \t 0.314 \t 0.179\n",
      "5 \t 0.308 \t 0.149\n",
      "6 \t 0.297 \t 0.179\n"
     ]
    }
   ],
   "source": [
    "lr=0.05\n",
    "loss_list=[]\n",
    "epochs=12\n",
    "theta=np.ones(N)\n",
    "\n",
    "print('Epoch \\t Loss \\t Accuracy')\n",
    "\n",
    "for i in range(epochs):\n",
    "    loss_tmp=[]\n",
    "    for X_i, Y_i in zip(X_train, Y_train):\n",
    "        pred=quantum_nn(X_i, theta)\n",
    "        loss_tmp.append(loss_fn(pred, Y_i))\n",
    "        theta=theta-lr*gradient(X_i, Y_i, theta)\n",
    "\n",
    "    loss_list.append(np.mean(loss_tmp))\n",
    "    acc=accuracy(X_train, Y_train, theta)\n",
    "\n",
    "    print(f'{i} \\t {loss_list[-1]:.3f} \\t {acc:.3f}')"
   ]
  },
  {
   "cell_type": "code",
   "execution_count": null,
   "metadata": {
    "colab": {
     "base_uri": "https://localhost:8080/",
     "height": 453
    },
    "id": "lyHzNNSYF077",
    "outputId": "69cc10a7-a5cc-487f-fd5e-753e8b38dadb"
   },
   "outputs": [],
   "source": [
    "plt.plot(loss_list)\n",
    "plt.xlabel('Epoch')\n",
    "plt.ylabel('Loss')\n",
    "plt.show()"
   ]
  },
  {
   "cell_type": "code",
   "execution_count": null,
   "metadata": {
    "colab": {
     "base_uri": "https://localhost:8080/"
    },
    "id": "fAyKOBbvNbQu",
    "outputId": "7891877b-90a0-429e-e2b0-805553a60b3e"
   },
   "outputs": [],
   "source": [
    "accuracy(X_test, Y_test, theta)"
   ]
  }
 ],
 "metadata": {
  "colab": {
   "authorship_tag": "ABX9TyOTzhMr8K5WlqDOkNX0qdEB",
   "include_colab_link": true,
   "provenance": []
  },
  "kernelspec": {
   "display_name": "Python 3 (ipykernel)",
   "language": "python",
   "name": "python3"
  },
  "language_info": {
   "codemirror_mode": {
    "name": "ipython",
    "version": 3
   },
   "file_extension": ".py",
   "mimetype": "text/x-python",
   "name": "python",
   "nbconvert_exporter": "python",
   "pygments_lexer": "ipython3",
   "version": "3.12.1"
  }
 },
 "nbformat": 4,
 "nbformat_minor": 4
}
